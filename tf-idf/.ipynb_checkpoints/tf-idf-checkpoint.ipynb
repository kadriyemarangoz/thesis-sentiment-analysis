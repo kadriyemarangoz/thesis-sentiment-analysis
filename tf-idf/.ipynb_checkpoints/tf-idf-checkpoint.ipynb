{
 "cells": [
  {
   "cell_type": "code",
   "execution_count": null,
   "metadata": {},
   "outputs": [],
   "source": [
    "#Kütüphanelerin eklenmesi\n",
    "import numpy as np #Bu kütüphane lineer cebir için kullandığımız kütüphane fonksiyonlarını içeriyor\n",
    "import pandas as pd # verilerimizi işlemek için pandas kütüphanasini kullanıyoruz(örn pd.read_scv)\n",
    "from sklearn.metrics import *\n",
    "from sklearn.linear_model import LogisticRegression\n",
    "from sklearn import svm\n",
    "from sklearn.feature_extraction.text import TfidfVectorizer\n",
    "from sklearn.model_selection import KFold, cross_val_predict, cross_val_score\n",
    "!pip install utils\n",
    "from utils import *\n",
    "import random\n",
    "import warnings\n",
    "warnings.filterwarnings('ignore') \n",
    "from sklearn.pipeline import make_pipeline\n",
    "from sklearn.metrics import classification_report, accuracy_score, make_scorer,precision_score,recall_score,f1_score\n",
    "from sklearn.multiclass import OneVsRestClassifier\n",
    "from sklearn.naive_bayes import MultinomialNB"
   ]
  },
  {
   "cell_type": "code",
   "execution_count": null,
   "metadata": {},
   "outputs": [],
   "source": [
    "column = ['tweets','duygu']\n",
    "df = pd.read_excel(\"../dataset/kemik_total.xlsx\")\n",
    "df.columns=column\n",
    "#veri setinin gösterilmesi\n",
    "df=df.drop_duplicates()\n",
    "df['tweets']=df['tweets'].str.lower()\n"
   ]
  },
  {
   "cell_type": "code",
   "execution_count": null,
   "metadata": {},
   "outputs": [],
   "source": [
    "len(df[df.duygu==1]),len(df[df.duygu==0]),len(df[df.duygu==2])"
   ]
  },
  {
   "cell_type": "code",
   "execution_count": null,
   "metadata": {},
   "outputs": [],
   "source": [
    "df=df.sample(frac=1).reset_index(drop=True)"
   ]
  },
  {
   "cell_type": "code",
   "execution_count": null,
   "metadata": {},
   "outputs": [],
   "source": [
    "def classification_report_with_accuracy_score(y_true, y_pred):\n",
    "    print(classification_report(y_true, y_pred)) # print classification report\n",
    "    \n",
    "    return accuracy_score(y_true, y_pred) # return accuracy score"
   ]
  },
  {
   "cell_type": "code",
   "execution_count": null,
   "metadata": {},
   "outputs": [],
   "source": [
    "def classification_report_with_precision_score(y_true, y_pred):\n",
    "    \n",
    "    return precision_score(y_true, y_pred, average='weighted')"
   ]
  },
  {
   "cell_type": "code",
   "execution_count": null,
   "metadata": {},
   "outputs": [],
   "source": [
    "def classification_report_with_recall_score(y_true, y_pred):\n",
    "    \n",
    "    return recall_score(y_true, y_pred,average='weighted')"
   ]
  },
  {
   "cell_type": "code",
   "execution_count": null,
   "metadata": {},
   "outputs": [],
   "source": [
    "def classification_report_with_f1_score(y_true, y_pred):\n",
    "    \n",
    "    return f1_score(y_true, y_pred,average='weighted')"
   ]
  },
  {
   "cell_type": "code",
   "execution_count": null,
   "metadata": {},
   "outputs": [],
   "source": [
    "def classification_report_with_mcc_score(y_true, y_pred):\n",
    "    \n",
    "    return matthews_corrcoef(y_true, y_pred)"
   ]
  },
  {
   "cell_type": "code",
   "execution_count": null,
   "metadata": {},
   "outputs": [],
   "source": [
    "def classification_report_with_c_kappa(y_true, y_pred):\n",
    "    return cohen_kappa_score(y_true, y_pred)"
   ]
  },
  {
   "cell_type": "code",
   "execution_count": null,
   "metadata": {
    "scrolled": true
   },
   "outputs": [],
   "source": [
    "# Nested CV with parameter optimization\n",
    "svc = svm.SVC(kernel='linear')\n",
    "o_vs_r = OneVsRestClassifier(svc)\n",
    "\n",
    "clf = make_pipeline(TfidfVectorizer(min_df = 5), o_vs_r)\n",
    "\n",
    "accuracy = cross_val_score(clf, df['tweets'], df['duygu'], cv=10, \\\n",
    "               scoring=make_scorer(classification_report_with_accuracy_score))\n",
    "print(\"Accurancy for TF-IDF/SVM: \",accuracy.mean())\n",
    "\n",
    "\n",
    "precision = cross_val_score(clf, df['tweets'], df['duygu'], cv=10, \\\n",
    "               scoring=make_scorer(classification_report_with_precision_score))\n",
    "print(\"Precision for TF-IDF/SVM: \",precision.mean())\n",
    "\n",
    "\n",
    "recall = cross_val_score(clf, df['tweets'], df['duygu'], cv=10, \\\n",
    "               scoring=make_scorer(classification_report_with_recall_score))\n",
    "print(\"Recall for TF-IDF/SVM: \",recall.mean())\n",
    "\n",
    "\n",
    "f1 = cross_val_score(clf, df['tweets'], df['duygu'], cv=10, \\\n",
    "               scoring=make_scorer(classification_report_with_f1_score))\n",
    "print(\"F1-Score for TF-IDF/SVM: \",f1.mean())\n",
    "\n",
    "mcc_score = cross_val_score(clf, df['tweets'], df['duygu'], cv=10, \\\n",
    "               scoring=make_scorer(classification_report_with_mcc_score))\n",
    "\n",
    "print(\"MCC_score for TF-IDF/SVM: \",mcc_score.mean())\n",
    "\n",
    "c_kappa = cross_val_score(clf, df['tweets'], df['duygu'], cv=10, \\\n",
    "               scoring=make_scorer(classification_report_with_c_kappa))\n",
    "\n",
    "print(\"C_kappa for TF-IDF/SVM: \",c_kappa.mean())"
   ]
  },
  {
   "cell_type": "code",
   "execution_count": null,
   "metadata": {
    "scrolled": true
   },
   "outputs": [],
   "source": [
    "# Nested CV with parameter optimization\n",
    "clf = make_pipeline(TfidfVectorizer(min_df = 5), LogisticRegression(multi_class='ovr'))\n",
    "\n",
    "accuracy = cross_val_score(clf, df['tweets'], df['duygu'], cv=10, \\\n",
    "               scoring=make_scorer(classification_report_with_accuracy_score))\n",
    "print(\"Accurancy for TF-IDF/LogisticRegression: \",accuracy.mean())\n",
    "\n",
    "\n",
    "precision = cross_val_score(clf, df['tweets'], df['duygu'], cv=10, \\\n",
    "               scoring=make_scorer(classification_report_with_precision_score))\n",
    "print(\"Precision for TF-IDF/LogisticRegression: \",precision.mean())\n",
    "\n",
    "\n",
    "recall = cross_val_score(clf, df['tweets'], df['duygu'], cv=10, \\\n",
    "               scoring=make_scorer(classification_report_with_recall_score))\n",
    "print(\"Recall for TF-IDF/LogisticRegression: \",recall.mean())\n",
    "\n",
    "\n",
    "f1 = cross_val_score(clf, df['tweets'], df['duygu'], cv=10, \\\n",
    "               scoring=make_scorer(classification_report_with_f1_score))\n",
    "print(\"F1-Score for TF-IDF/LogisticRegression: \",f1.mean())\n",
    "\n",
    "mcc_score = cross_val_score(clf, df['tweets'], df['duygu'], cv=10, \\\n",
    "               scoring=make_scorer(classification_report_with_mcc_score))\n",
    "\n",
    "print(\"MCC_score for TF-IDF/LogisticRegression: \",mcc_score.mean())\n",
    "\n",
    "c_kappa = cross_val_score(clf, df['tweets'], df['duygu'], cv=10, \\\n",
    "               scoring=make_scorer(classification_report_with_c_kappa))\n",
    "\n",
    "print(\"C_kappa for TF-IDF/LogisticRegression: \",c_kappa.mean())"
   ]
  },
  {
   "cell_type": "code",
   "execution_count": null,
   "metadata": {
    "scrolled": true
   },
   "outputs": [],
   "source": [
    "# clf = make_pipeline(TfidfVectorizer(min_df = 5), KNeighborsClassifier(n_neighbors=3))\n",
    "# nested_score = cross_val_score(clf, df['tweets'], df['duygu'], cv=10, \\\n",
    "#                scoring=make_scorer(classification_report_with_accuracy_score))\n",
    "# print(\"Accurancy for TF-IDF/KNN: \",nested_score.mean())"
   ]
  },
  {
   "cell_type": "code",
   "execution_count": null,
   "metadata": {
    "scrolled": true
   },
   "outputs": [],
   "source": [
    "\"\"\"clf = make_pipeline(TfidfVectorizer(min_df = 5), MLPClassifier(solver='lbfgs', alpha=1e-5,\n",
    "                    hidden_layer_sizes=(10, 3), random_state=1))\n",
    "\n",
    "accuracy = cross_val_score(clf, df['tweets'], df['duygu'], cv=10, \\\n",
    "               scoring=make_scorer(classification_report_with_accuracy_score))\n",
    "print(\"Accurancy for TF-IDF/MLPC: \",accuracy.mean())\n",
    "\n",
    "\n",
    "precision = cross_val_score(clf, df['tweets'], df['duygu'], cv=10, \\\n",
    "               scoring=make_scorer(classification_report_with_precision_score))\n",
    "print(\"Precision for TF-IDF/MLPC: \",precision.mean())\n",
    "\n",
    "\n",
    "recall = cross_val_score(clf, df['tweets'], df['duygu'], cv=10, \\\n",
    "               scoring=make_scorer(classification_report_with_recall_score))\n",
    "print(\"Recall for TF-IDF/MLPC: \",recall.mean())\n",
    "\n",
    "\n",
    "f1 = cross_val_score(clf, df['tweets'], df['duygu'], cv=10, \\\n",
    "               scoring=make_scorer(classification_report_with_f1_score))\n",
    "print(\"F1-Score for TF-IDF/MLPC: \",f1.mean())\n",
    "\"\"\""
   ]
  },
  {
   "cell_type": "code",
   "execution_count": null,
   "metadata": {},
   "outputs": [],
   "source": [
    "clf = make_pipeline(TfidfVectorizer(min_df = 5), MultinomialNB())\n",
    "\n",
    "accuracy = cross_val_score(clf, df['tweets'], df['duygu'], cv=10, \\\n",
    "               scoring=make_scorer(classification_report_with_accuracy_score))\n",
    "print(\"Accurancy for TF-IDF/NB: \",accuracy.mean())\n",
    "\n",
    "\n",
    "precision = cross_val_score(clf, df['tweets'], df['duygu'], cv=10, \\\n",
    "               scoring=make_scorer(classification_report_with_precision_score))\n",
    "print(\"Precision for TF-IDF/NB: \",precision.mean())\n",
    "\n",
    "\n",
    "recall = cross_val_score(clf, df['tweets'], df['duygu'], cv=10, \\\n",
    "               scoring=make_scorer(classification_report_with_recall_score))\n",
    "print(\"Recall for TF-IDF/NB: \",recall.mean())\n",
    "\n",
    "\n",
    "f1 = cross_val_score(clf, df['tweets'], df['duygu'], cv=10, \\\n",
    "               scoring=make_scorer(classification_report_with_f1_score))\n",
    "print(\"F1-Score for TF-IDF/NB: \",f1.mean())\n",
    "\n",
    "mcc_score = cross_val_score(clf, df['tweets'], df['duygu'], cv=10, \\\n",
    "               scoring=make_scorer(classification_report_with_mcc_score))\n",
    "\n",
    "print(\"MCC_score for TF-IDF/NB: \",mcc_score.mean())\n",
    "\n",
    "c_kappa = cross_val_score(clf, df['tweets'], df['duygu'], cv=10, \\\n",
    "               scoring=make_scorer(classification_report_with_c_kappa))\n",
    "\n",
    "print(\"C_kappa for TF-IDF/NB: \",c_kappa.mean())"
   ]
  }
 ],
 "metadata": {
  "kernelspec": {
   "display_name": "Python [conda env:tf]",
   "language": "python",
   "name": "conda-env-tf-py"
  },
  "language_info": {
   "codemirror_mode": {
    "name": "ipython",
    "version": 3
   },
   "file_extension": ".py",
   "mimetype": "text/x-python",
   "name": "python",
   "nbconvert_exporter": "python",
   "pygments_lexer": "ipython3",
   "version": "3.9.15"
  }
 },
 "nbformat": 4,
 "nbformat_minor": 4
}
